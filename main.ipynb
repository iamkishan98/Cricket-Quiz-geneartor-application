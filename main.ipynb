{
 "cells": [
  {
   "cell_type": "code",
   "execution_count": 1,
   "metadata": {},
   "outputs": [
    {
     "name": "stdout",
     "output_type": "stream",
     "text": [
      "9\n"
     ]
    }
   ],
   "source": [
    "import pandas as pd\n",
    "a=9\n",
    "print(a)"
   ]
  },
  {
   "cell_type": "code",
   "execution_count": null,
   "metadata": {
    "scrolled": false
   },
   "outputs": [],
   "source": [
    "from tkinter import *\n",
    "import tkinter\n",
    "import requests\n",
    "from bs4 import BeautifulSoup\n",
    "import pandas as pd\n",
    "from tkinter import messagebox\n",
    "\n",
    "\n",
    "url='http://www.espncricinfo.com/ci/engine/match/index.html?view=live'\n",
    "r=requests.get(url)\n",
    "html=r.text\n",
    "match=[]\n",
    "inning_1=[]\n",
    "inning_2=[]\n",
    "status=[]\n",
    "date=[]\n",
    "\n",
    "soup=BeautifulSoup(html,'html.parser')\n",
    "\n",
    "info = soup.find(name='section',attrs={'id':'live-match-data'})\n",
    "matches = info.find_all(name='section',attrs={'class':'default-match-block'})\n",
    "\n",
    "i=0\n",
    "while i<len(matches):    \n",
    "    match.append(matches[i].find(name='span',attrs={'class':'match-no'}).get_text())\n",
    "    inning_1.append(matches[i].find(name='div',attrs={'class':'innings-info-1'}).get_text())\n",
    "    inning_2.append(matches[i].find(name='div',attrs={'class':'innings-info-2'}).get_text())\n",
    "    status.append(matches[i].find(name='div',attrs={'class':'match-status'}).get_text())\n",
    "    date.append(matches[i].find(name='span',attrs={'class':'bold'}).get_text())\n",
    "    i+=1\n",
    "\n",
    "################################################################################################    \n",
    "\n",
    "root=Tk()\n",
    "\n",
    "mb= Menubutton (root,text=\"Select Match\",relief=RAISED)\n",
    "mb.menu = Menu(mb,tearoff=0)\n",
    "mb[\"menu\"]=mb.menu\n",
    "\n",
    "for x in range(len(matches)):\n",
    "    mb.menu.add_checkbutton ( label=match[x] , command = lambda x=x: features(x) )\n",
    "\n",
    "def features(x):       \n",
    "        def match_name():\n",
    "            TkMessageBox.showinfo('Name of match', match[x])\n",
    "        M=tkinter.Button(root, text='Name of match' , command=match_name , height=1, width=20)\n",
    "        \n",
    "        \n",
    "        def date_of():\n",
    "            TkMessageBox.showinfo('Date',date[x])\n",
    "        D=tkinter.Button(root, text='Date' , command=date_of , height=1, width=20)\n",
    "        \n",
    "        \n",
    "        def status_1():\n",
    "            TkMessageBox.showinfo('Status',status[x])\n",
    "        S=tkinter.Button(root, text='Status' , command=status_1 , height=1, width=20)\n",
    "\n",
    "\n",
    "        def inning_1_a():\n",
    "            TkMessageBox.showinfo('First Innings',inning_1[x])\n",
    "        I_1=tkinter.Button(root, text='First Innings' , command=inning_1_a , height=1, width=20)\n",
    "        \n",
    "\n",
    "        def inning_2_a():\n",
    "            TkMessageBox.showinfo('Second Innings',inning_2[x])\n",
    "        I_2=tkinter.Button(root, text='Second Innings' , command=inning_2_a , height=1, width=20)\n",
    "        \n",
    "mb.pack()\n",
    "root.mainloop()\n",
    "print(\"hello\")\n",
    "\n",
    "\n",
    "\n",
    "\n",
    "\n",
    "\n",
    "\n",
    "\n",
    "\n",
    "\n"
   ]
  },
  {
   "cell_type": "code",
   "execution_count": null,
   "metadata": {},
   "outputs": [],
   "source": []
  }
 ],
 "metadata": {
  "kernelspec": {
   "display_name": "Python 3",
   "language": "python",
   "name": "python3"
  },
  "language_info": {
   "codemirror_mode": {
    "name": "ipython",
    "version": 3
   },
   "file_extension": ".py",
   "mimetype": "text/x-python",
   "name": "python",
   "nbconvert_exporter": "python",
   "pygments_lexer": "ipython3",
   "version": "3.6.4"
  }
 },
 "nbformat": 4,
 "nbformat_minor": 2
}
