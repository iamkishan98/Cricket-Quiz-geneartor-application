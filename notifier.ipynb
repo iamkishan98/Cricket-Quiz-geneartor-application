{
 "cells": [
  {
   "cell_type": "code",
   "execution_count": 1,
   "metadata": {},
   "outputs": [
    {
     "ename": "ModuleNotFoundError",
     "evalue": "No module named 'notify2'",
     "output_type": "error",
     "traceback": [
      "\u001b[1;31m---------------------------------------------------------------------------\u001b[0m",
      "\u001b[1;31mModuleNotFoundError\u001b[0m                       Traceback (most recent call last)",
      "\u001b[1;32m<ipython-input-1-166d3e6bfa21>\u001b[0m in \u001b[0;36m<module>\u001b[1;34m()\u001b[0m\n\u001b[0;32m      4\u001b[0m \u001b[1;32mimport\u001b[0m \u001b[0mtime\u001b[0m\u001b[1;33m\u001b[0m\u001b[0m\n\u001b[0;32m      5\u001b[0m \u001b[1;32mfrom\u001b[0m \u001b[0mdatetime\u001b[0m \u001b[1;32mimport\u001b[0m \u001b[0mdatetime\u001b[0m\u001b[1;33m\u001b[0m\u001b[0m\n\u001b[1;32m----> 6\u001b[1;33m \u001b[1;32mimport\u001b[0m \u001b[0mnotify2\u001b[0m\u001b[1;33m\u001b[0m\u001b[0m\n\u001b[0m\u001b[0;32m      7\u001b[0m \u001b[0mnotify2\u001b[0m\u001b[1;33m.\u001b[0m\u001b[0minit\u001b[0m\u001b[1;33m(\u001b[0m\u001b[1;34m'Cricket Notifier'\u001b[0m\u001b[1;33m)\u001b[0m\u001b[1;33m\u001b[0m\u001b[0m\n\u001b[0;32m      8\u001b[0m \u001b[0mprint\u001b[0m\u001b[1;33m(\u001b[0m\u001b[1;34m\"Initialising...\"\u001b[0m\u001b[1;33m)\u001b[0m\u001b[1;33m\u001b[0m\u001b[0m\n",
      "\u001b[1;31mModuleNotFoundError\u001b[0m: No module named 'notify2'"
     ]
    }
   ],
   "source": [
    "import requests\n",
    "import json\n",
    "import pprint\n",
    "import time\n",
    "from datetime import datetime\n",
    "import notify2\n",
    "notify2.init('Cricket Notifier')\n",
    "print(\"Initialising...\")\n",
    "base_url = \"http://crm.wherrelz.com/api/cricketScore/?unique_id=\"\n",
    "count=0\n",
    "while count<3:\n",
    "    try:\n",
    "        r = requests.get(\"http://crm.wherrelz.com/api/cricket/\")\n",
    "        break\n",
    "    except:\n",
    "        count+=1\n",
    "if count==3:\n",
    "    print(\"Network Error\")\n",
    "    exit()\n",
    "\n",
    "all_match1 = json.loads(r.text)\n",
    "all_match = all_match1['data']\n",
    "print(\"Choose from following ongoing matches : \")\n",
    "k=0\n",
    "for i in all_match:\n",
    "    print(str(k)+\". \"+i['description'])\n",
    "    k+=1\n",
    "\n",
    "choice = int(input())\n",
    "match_id = all_match[choice]['unique_id']\n",
    "url = base_url + str(match_id)\n",
    "count=0\n",
    "print(url)\n",
    "with open('cricket_score.txt', 'w') as f:\n",
    "    while True:\n",
    "        rMatch = requests.get(url)\n",
    "        match_desc = json.loads(rMatch.text)\n",
    "        print(\"################## Score ########################\")\n",
    "        score = match_desc['score']\n",
    "        t = datetime.now().strftime('%Y-%m-%d %H:%M:%S')\n",
    "        print(score+\" \"+t)\n",
    "        n = notify2.Notification(\"Score\",score+\" time: \"+t)\n",
    "        f.write(score+\" Time : \"+t+\"\\n\")\n",
    "        n.show()\n",
    "        print(\"Next Score After 2 minutes... \")\n",
    "        time.sleep(120)"
   ]
  },
  {
   "cell_type": "code",
   "execution_count": null,
   "metadata": {},
   "outputs": [],
   "source": []
  }
 ],
 "metadata": {
  "kernelspec": {
   "display_name": "Python 3",
   "language": "python",
   "name": "python3"
  },
  "language_info": {
   "codemirror_mode": {
    "name": "ipython",
    "version": 3
   },
   "file_extension": ".py",
   "mimetype": "text/x-python",
   "name": "python",
   "nbconvert_exporter": "python",
   "pygments_lexer": "ipython3",
   "version": "3.6.4"
  }
 },
 "nbformat": 4,
 "nbformat_minor": 2
}
